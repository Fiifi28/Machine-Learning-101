{
 "cells": [
  {
   "cell_type": "markdown",
   "metadata": {},
   "source": [
    "## LESSON ON NUMPY AND PANDAS\n",
    "\n",
    "* A quick example on how to import a video from youtube inside JupyterNotebook\n",
    "\n",
    "To run the video, the video ID is needed, which is after the equal to in the link of the video\n",
    "\n",
    "```python\n",
    "from IPython.display import YouTubeVideo\n",
    "YouTubeVideo(\"ukzFI9rgwfU\", width = 400, height = 300)  \n",
    "```\n",
    "\n",
    "How to link somethig on the web with python. This is a link to one of my papers\n",
    "\n",
    " __[Link to my paper](https://pubmed.ncbi.nlm.nih.gov/35393704/)__\n",
    "\n"
   ]
  },
  {
   "cell_type": "code",
   "execution_count": 6,
   "metadata": {},
   "outputs": [],
   "source": [
    "import numpy as np\n",
    "import pandas as pd"
   ]
  },
  {
   "cell_type": "code",
   "execution_count": 21,
   "metadata": {},
   "outputs": [
    {
     "data": {
      "text/plain": [
       "array([ 6, 16, 25, 36])"
      ]
     },
     "execution_count": 21,
     "metadata": {},
     "output_type": "execute_result"
    }
   ],
   "source": [
    "#creating a numpy array in one dimensional\n",
    "\n",
    "matrix_a = np.array([2,4,5,6,7,9,11]) \n",
    "matrix_b = np.array ([3,4,5,6,11,45,76])\n",
    "\n",
    "matrix_c = matrix_b * matrix_a\n",
    "matrix_c\n",
    "matrix_c.shape\n",
    "matrix_c[0:4]\n",
    "\n"
   ]
  },
  {
   "cell_type": "code",
   "execution_count": 24,
   "metadata": {},
   "outputs": [
    {
     "data": {
      "text/plain": [
       "array([[2., 0.],\n",
       "       [0., 0.]])"
      ]
     },
     "execution_count": 24,
     "metadata": {},
     "output_type": "execute_result"
    }
   ],
   "source": [
    "#two dimensional array\n",
    "\n",
    "b = np.zeros((2,2))\n",
    "b[0][0] = 2.0\n",
    "b"
   ]
  },
  {
   "cell_type": "code",
   "execution_count": 27,
   "metadata": {},
   "outputs": [
    {
     "data": {
      "text/plain": [
       "array([[7, 7, 7],\n",
       "       [7, 7, 7],\n",
       "       [7, 7, 7]])"
      ]
     },
     "execution_count": 27,
     "metadata": {},
     "output_type": "execute_result"
    }
   ],
   "source": [
    "#Function in array\n",
    "matrix_full = np.full((3,3), 7)\n",
    "matrix_full"
   ]
  },
  {
   "cell_type": "code",
   "execution_count": null,
   "metadata": {},
   "outputs": [],
   "source": []
  }
 ],
 "metadata": {
  "interpreter": {
   "hash": "6aee0c9777574966310e71f39551459edbb66578115cdc14042fd83d2eee07c6"
  },
  "kernelspec": {
   "display_name": "Python 3.8.8 ('base')",
   "language": "python",
   "name": "python3"
  },
  "language_info": {
   "codemirror_mode": {
    "name": "ipython",
    "version": 3
   },
   "file_extension": ".py",
   "mimetype": "text/x-python",
   "name": "python",
   "nbconvert_exporter": "python",
   "pygments_lexer": "ipython3",
   "version": "3.8.8"
  },
  "orig_nbformat": 4
 },
 "nbformat": 4,
 "nbformat_minor": 2
}
